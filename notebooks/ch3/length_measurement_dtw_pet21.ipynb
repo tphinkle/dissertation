{
 "cells": [
  {
   "cell_type": "markdown",
   "metadata": {},
   "source": [
    "# Imports"
   ]
  },
  {
   "cell_type": "code",
   "execution_count": null,
   "metadata": {
    "collapsed": true
   },
   "outputs": [],
   "source": [
    "# Python standard library\n",
    "import sys\n",
    "\n",
    "# Pore stats\n",
    "sys.path.append('/home/prestonh/Desktop/Research/pore_stats/pore_stats/rp')\n",
    "import resistive_pulse as rp\n",
    "import rp_file\n",
    "\n",
    "sys.path.append('/home/prestonh/Desktop/Research/pore_stats/pore_stats/oi')\n",
    "import optical_imaging as oi\n",
    "import oi_file\n",
    "\n",
    "# Scientific computing\n",
    "import numpy as np\n",
    "import matplotlib.pyplot as plt\n",
    "import scipy.ndimage"
   ]
  },
  {
   "cell_type": "markdown",
   "metadata": {},
   "source": [
    "# Cosmetic"
   ]
  },
  {
   "cell_type": "code",
   "execution_count": null,
   "metadata": {
    "collapsed": true
   },
   "outputs": [],
   "source": [
    "sphere_red = np.array([189,63,63])/255.\n",
    "b1_blue = np.array([32,65,148])/255.\n",
    "b42_green = np.array([61, 183, 134])/255."
   ]
  },
  {
   "cell_type": "markdown",
   "metadata": {},
   "source": [
    "# Load data"
   ]
  },
  {
   "cell_type": "code",
   "execution_count": null,
   "metadata": {
    "collapsed": true
   },
   "outputs": [],
   "source": [
    "base_path = '/home/prestonh/Desktop/Research/micropores/length_analysis/PET21/'\n",
    "sphere_file_paths = ['PET21_280nm_0000_events.json']\n",
    "b1_file_paths = ['PET21_rod_0000_events.json', 'PET21_rod_0001_events.json']\n",
    "b42_file_paths = ['PET21_rod42_0002_events.json', 'PET21_rod42_0003_events.json', 'PET21_rod42_0004_events.json']\n",
    "\n",
    "\n",
    "\n",
    "# Sphere events\n",
    "sampling_rate = 10000.\n",
    "sphere_events = []\n",
    "sphere_files = []\n",
    "for sphere_file_path in sphere_file_paths:    \n",
    "    new_sphere_events = rp_file.open_event_file_json(base_path + sphere_file_path)   \n",
    "    sphere_events += new_sphere_events\n",
    "    \n",
    "    new_sphere_files = [sphere_file_path]*len(new_sphere_events)\n",
    "    sphere_files += new_sphere_files\n",
    "        \n",
    "        \n",
    "        \n",
    "    \n",
    "\n",
    "# B1 events\n",
    "sampling_rate = 10000.\n",
    "b1_events = []\n",
    "b1_files = []\n",
    "for b1_file_path in b1_file_paths:    \n",
    "    new_b1_events = rp_file.open_event_file_json(base_path + b1_file_path)\n",
    "    b1_events += new_b1_events\n",
    "    \n",
    "    new_b1_files = [b1_file_path]*len(new_b1_events)\n",
    "    b1_files += new_b1_files\n",
    "\n",
    "\n",
    "\n",
    "# B42 events\n",
    "sampling_rate = 10000.\n",
    "b42_events = []\n",
    "b42_files = []\n",
    "for b42_file_path in b42_file_paths:    \n",
    "    new_b42_events = rp_file.open_event_file_json(base_path + b42_file_path)\n",
    "    b42_events += new_b42_events\n",
    "    \n",
    "    new_b42_files = [b42_file_path]*len(new_b42_events)\n",
    "    b42_files += new_b42_files"
   ]
  },
  {
   "cell_type": "markdown",
   "metadata": {},
   "source": [
    "# Get minima and calculate duration"
   ]
  },
  {
   "cell_type": "code",
   "execution_count": null,
   "metadata": {
    "collapsed": true
   },
   "outputs": [],
   "source": [
    "duration_sigma = [35,35,35]\n",
    "\n",
    "for i, sphere_event in enumerate(sphere_events):\n",
    "    event_data = np.copy(sphere_event._data)\n",
    "    "
   ]
  },
  {
   "cell_type": "code",
   "execution_count": 1,
   "metadata": {
    "collapsed": false
   },
   "outputs": [
    {
     "ename": "NameError",
     "evalue": "name 'b1_events' is not defined",
     "output_type": "error",
     "traceback": [
      "\u001b[0;31m---------------------------------------------------------------------------\u001b[0m",
      "\u001b[0;31mNameError\u001b[0m                                 Traceback (most recent call last)",
      "\u001b[0;32m<ipython-input-1-ed93cc963298>\u001b[0m in \u001b[0;36m<module>\u001b[0;34m()\u001b[0m\n\u001b[0;32m----> 1\u001b[0;31m \u001b[0msignal_1\u001b[0m \u001b[0;34m=\u001b[0m \u001b[0mb1_events\u001b[0m\u001b[0;34m[\u001b[0m\u001b[0;36m0\u001b[0m\u001b[0;34m]\u001b[0m\u001b[0;34m\u001b[0m\u001b[0m\n\u001b[0m\u001b[1;32m      2\u001b[0m \u001b[0msignal_2\u001b[0m \u001b[0;34m=\u001b[0m \u001b[0mb42_events\u001b[0m\u001b[0;34m[\u001b[0m\u001b[0;36m0\u001b[0m\u001b[0;34m]\u001b[0m\u001b[0;34m\u001b[0m\u001b[0m\n",
      "\u001b[0;31mNameError\u001b[0m: name 'b1_events' is not defined"
     ]
    }
   ],
   "source": [
    "signal_1 = b1_events[0]\n",
    "signal_2 = b42_events[0]"
   ]
  },
  {
   "cell_type": "code",
   "execution_count": null,
   "metadata": {
    "collapsed": true
   },
   "outputs": [],
   "source": [
    "distance_matrix = get_distance_matrix_DDTW(signal_1, signal_2)\n",
    "\n",
    "cost_matrix = get_cost_matrix(distance_matrix)\n",
    "\n",
    "warp_path = get_warp_path(cost_matrix)"
   ]
  }
 ],
 "metadata": {
  "kernelspec": {
   "display_name": "Python [conda env:py27]",
   "language": "python",
   "name": "conda-env-py27-py"
  },
  "language_info": {
   "codemirror_mode": {
    "name": "ipython",
    "version": 2
   },
   "file_extension": ".py",
   "mimetype": "text/x-python",
   "name": "python",
   "nbconvert_exporter": "python",
   "pygments_lexer": "ipython2",
   "version": "2.7.12"
  }
 },
 "nbformat": 4,
 "nbformat_minor": 1
}
