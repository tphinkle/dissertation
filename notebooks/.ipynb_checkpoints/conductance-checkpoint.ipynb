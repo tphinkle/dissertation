{
 "cells": [
  {
   "cell_type": "markdown",
   "metadata": {},
   "source": [
    "# Imports"
   ]
  },
  {
   "cell_type": "code",
   "execution_count": 22,
   "metadata": {
    "collapsed": true
   },
   "outputs": [],
   "source": [
    "import numpy as np\n",
    "import matplotlib.pyplot as plt\n",
    "import scipy.integrate as integrate"
   ]
  },
  {
   "cell_type": "markdown",
   "metadata": {},
   "source": [
    "# Constants"
   ]
  },
  {
   "cell_type": "code",
   "execution_count": 43,
   "metadata": {
    "collapsed": false
   },
   "outputs": [],
   "source": [
    "nm = 10**(-9.)\n",
    "N = 6.022*10**23.\n",
    "\n",
    "R = 10*nm\n",
    "c_0s = np.array([0.001, 0.003, 0.01, 0.03, 0.1, 0.3, 1])*N*10**(3.)\n",
    "\n",
    "mu = 6.5*10**(-8.)\n",
    "\n",
    "E = 1./(10**(-6.))\n",
    "phi_0 = 25*10**(-3.)\n",
    "\n",
    "k_B = 1.38*10**(-23.)\n",
    "T = 300.\n",
    "\n",
    "e = 1.6*10**(-19.)\n",
    "\n",
    "epsilon=8.85*10**(-12.)*80"
   ]
  },
  {
   "cell_type": "code",
   "execution_count": 47,
   "metadata": {
    "collapsed": false
   },
   "outputs": [],
   "source": [
    "G_bulks = [4*R*c_0*e*mu*E for c_0 in c_0s]"
   ]
  },
  {
   "cell_type": "code",
   "execution_count": 58,
   "metadata": {
    "collapsed": false
   },
   "outputs": [
    {
     "name": "stdout",
     "output_type": "stream",
     "text": [
      "1.37887990079e-08\n",
      "7.96096681901e-09\n",
      "4.36040110632e-09\n",
      "2.51747875251e-09\n",
      "1.37887990079e-09\n",
      "7.96096681901e-10\n",
      "4.36040110632e-10\n"
     ]
    }
   ],
   "source": [
    "Gs = []\n",
    "for i in range(len(c_0s)):\n",
    "    c_0 = c_0s[i]\n",
    "    phi0star = e*phi_0/(k_B*T)\n",
    "    lambda_D = np.sqrt(epsilon*k_B*T/(e**2.*c_0))\n",
    "    \n",
    "    print lambda_D\n",
    "    \n",
    "    def integrand(y):\n",
    "        return 2*c_0*(np.exp(-phi0star*np.exp(-y/lambda_D)) + np.exp(phi0star*np.exp(-y/lambda_D)))*e*mu*E\n",
    "    \n",
    "    Gs.append(integrate.quad(integrand, 0, R)[0])"
   ]
  },
  {
   "cell_type": "code",
   "execution_count": 59,
   "metadata": {
    "collapsed": false
   },
   "outputs": [
    {
     "name": "stdout",
     "output_type": "stream",
     "text": [
      "[  6.02200000e+23   1.80660000e+24   6.02200000e+24   1.80660000e+25\n",
      "   6.02200000e+25   1.80660000e+26   6.02200000e+26]\n"
     ]
    }
   ],
   "source": [
    "print c_0s"
   ]
  },
  {
   "cell_type": "code",
   "execution_count": 62,
   "metadata": {
    "collapsed": false
   },
   "outputs": [
    {
     "name": "stdout",
     "output_type": "stream",
     "text": [
      "[0.0003152577403795309, 0.0008853636419176051, 0.002767607684863575, 0.007974385443206155, 0.025889692175342354, 0.07660631749420924, 0.25316573442538326]\n"
     ]
    }
   ],
   "source": [
    "print Gs"
   ]
  },
  {
   "cell_type": "code",
   "execution_count": 63,
   "metadata": {
    "collapsed": false
   },
   "outputs": [
    {
     "data": {
      "image/png": "[encoded data removed]",
      "text/plain": [
       "<matplotlib.figure.Figure at 0x7f18aff1ff90>"
      ]
     },
     "metadata": {},
     "output_type": "display_data"
    }
   ],
   "source": [
    "plt.semilogx(c_0s, Gs)\n",
    "plt.semilogx(c_0s, G_bulks)\n",
    "plt.show()"
   ]
  },
  {
   "cell_type": "code",
   "execution_count": null,
   "metadata": {
    "collapsed": true
   },
   "outputs": [],
   "source": []
  }
 ],
 "metadata": {
  "anaconda-cloud": {},
  "kernelspec": {
   "display_name": "Python [conda env:py27]",
   "language": "python",
   "name": "conda-env-py27-py"
  },
  "language_info": {
   "codemirror_mode": {
    "name": "ipython",
    "version": 2
   },
   "file_extension": ".py",
   "mimetype": "text/x-python",
   "name": "python",
   "nbconvert_exporter": "python",
   "pygments_lexer": "ipython2",
   "version": "2.7.12"
  }
 },
 "nbformat": 4,
 "nbformat_minor": 1
}
