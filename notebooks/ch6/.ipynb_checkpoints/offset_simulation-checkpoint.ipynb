{
 "cells": [
  {
   "cell_type": "markdown",
   "metadata": {},
   "source": [
    "# Imports"
   ]
  },
  {
   "cell_type": "code",
   "execution_count": 79,
   "metadata": {
    "collapsed": true
   },
   "outputs": [],
   "source": [
    "# Scientific computing\n",
    "import numpy as np\n",
    "import matplotlib.pyplot as plt\n",
    "import scipy.optimize"
   ]
  },
  {
   "cell_type": "markdown",
   "metadata": {},
   "source": [
    "# Plot"
   ]
  },
  {
   "cell_type": "code",
   "execution_count": 122,
   "metadata": {
    "collapsed": false
   },
   "outputs": [],
   "source": [
    "# Constants\n",
    "nm = 1.*10**(-9.)\n",
    "N = 1000\n",
    "E = 1\n",
    "G = 1\n",
    "Re = 1\n",
    "alpha = 7.5\n",
    "\n",
    "# Pore\n",
    "L = 5000.*nm\n",
    "D = 200.*nm\n",
    "V = np.pi*L*(D/2.)**2.\n",
    "\n",
    "\n",
    "# Particle 1\n",
    "mean_1 = 80*nm\n",
    "std_1 = 10*nm\n",
    "radii_1 = np.random.normal(loc = mean_1, scale = std_1, size = 1000)\n",
    "vs = (4./3)*np.pi*radii_1**3.\n",
    "Ss = (1-0.8*(2*radii_1/D)**3.)**(-1.)\n",
    "delta_E_0s_1 = (E*G/Re)*((2*V)/(3*vs*Ss)+1)**(-1.)\n",
    "\n",
    "\n",
    "\n",
    "yc_squareds_1 = np.sqrt((D/2.)**2*np.random.rand(1000))/(D/2.)\n",
    "\n",
    "\n",
    "delta_Es_1 = delta_E_0s_1*(1.+alpha*(yc_squareds_1*radii_1*2/D)**3.)\n",
    "\n",
    "radii_1_measured = []\n",
    "for i in range(N):\n",
    "    func = lambda radius: delta_Es_1[i]-E*G/Re*((2*V)/(3*(4./3)*np.pi*radius**3.*(1-0.8*((2*radius)/D)**3.)**(-1.))+1)**(-1.)\n",
    "    radii_1_measured.append(scipy.optimize.fsolve(func, radii_1[i])[0])\n",
    "\n",
    "# Particle 2\n",
    "mean_2 = 120*nm\n",
    "std_2 = 10*nm\n",
    "radii_2 = np.random.normal(loc = mean_2, scale = std_2, size = 1000)\n",
    "vs = (4./3)*np.pi*radii_2**3.\n",
    "Ss = (1-0.8*(2*radii_2/D)**3.)**(-1.)\n",
    "delta_E_0s_2 = (E*G/Re)*((2*V)/(3*vs*Ss)+1)**(-1.)\n",
    "\n",
    "\n",
    "\n",
    "yc_squareds_2 = np.sqrt((D/2.)**2*np.random.rand(1000))/(D/2.)\n",
    "\n",
    "\n",
    "delta_Es_2 = delta_E_0s_2*(1.+alpha*(yc_squareds_2*radii_2*2/D)**3.)\n",
    "\n",
    "radii_2_measured = []\n",
    "for i in range(N):\n",
    "    func = lambda radius: delta_Es_2[i]-E*G/Re*((2*V)/(3*(4./3)*np.pi*radius**3.*(1-0.8*((2*radius)/D)**3.)**(-1.))+1)**(-1.)\n",
    "    radii_2_measured.append(scipy.optimize.fsolve(func, radii_2[i])[0])\n"
   ]
  },
  {
   "cell_type": "code",
   "execution_count": 123,
   "metadata": {
    "collapsed": false
   },
   "outputs": [
    {
     "data": {
      "image/png": "[encoded data removed]",
      "text/plain": [
       "<matplotlib.figure.Figure at 0x7f40261eae50>"
      ]
     },
     "metadata": {},
     "output_type": "display_data"
    }
   ],
   "source": [
    "plt.hist(radii_1, bins = 20, color = 'blue')\n",
    "plt.hist(radii_1_measured, bins = 20, color = 'red', alpha = 0.5)\n",
    "plt.hist(radii_2, bins = 20, color = 'blue')\n",
    "plt.hist(radii_2_measured, bins = 20, color = 'red', alpha = 0.5)\n",
    "plt.show()"
   ]
  },
  {
   "cell_type": "code",
   "execution_count": 115,
   "metadata": {
    "collapsed": false
   },
   "outputs": [
    {
     "data": {
      "image/png": "[encoded data removed]",
      "text/plain": [
       "<matplotlib.figure.Figure at 0x7f4027d75750>"
      ]
     },
     "metadata": {},
     "output_type": "display_data"
    }
   ],
   "source": [
    "plt.hist(yc_squareds_1, bins = 20)\n",
    "plt.show()"
   ]
  },
  {
   "cell_type": "code",
   "execution_count": null,
   "metadata": {
    "collapsed": true
   },
   "outputs": [],
   "source": []
  }
 ],
 "metadata": {
  "anaconda-cloud": {},
  "kernelspec": {
   "display_name": "Python [conda env:py27]",
   "language": "python",
   "name": "conda-env-py27-py"
  },
  "language_info": {
   "codemirror_mode": {
    "name": "ipython",
    "version": 2
   },
   "file_extension": ".py",
   "mimetype": "text/x-python",
   "name": "python",
   "nbconvert_exporter": "python",
   "pygments_lexer": "ipython2",
   "version": "2.7.12"
  }
 },
 "nbformat": 4,
 "nbformat_minor": 1
}
